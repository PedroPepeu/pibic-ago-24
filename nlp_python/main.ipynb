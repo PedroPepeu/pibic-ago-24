{
 "cells": [
  {
   "cell_type": "code",
   "execution_count": 39,
   "metadata": {},
   "outputs": [],
   "source": [
    "import re"
   ]
  },
  {
   "cell_type": "code",
   "execution_count": 40,
   "metadata": {},
   "outputs": [],
   "source": [
    "chat1 = 'codebasics: you ask a 1234567890, abc@xyz.com'\n",
    "chat2 = 'codebasics: you ask a (123)-456-7891, email: abc@xyz.com'\n",
    "chat3 = 'order 8709381320'"
   ]
  },
  {
   "cell_type": "code",
   "execution_count": 41,
   "metadata": {},
   "outputs": [
    {
     "name": "stdout",
     "output_type": "stream",
     "text": [
      "['(123)-456-789']\n"
     ]
    }
   ],
   "source": [
    "patternNum = r'\\d{10}|\\(\\d{3}\\)-\\d{3}-\\d{3}'\n",
    "matches = re.findall(patternNum, chat2)\n",
    "print(matches)"
   ]
  },
  {
   "cell_type": "code",
   "execution_count": 42,
   "metadata": {},
   "outputs": [
    {
     "name": "stdout",
     "output_type": "stream",
     "text": [
      "['abc@xyz.com']\n"
     ]
    }
   ],
   "source": [
    "patternEmail = r'[a-z0-9A-Z_]*@[a-z0-9A-Z_]*\\.com'\n",
    "matches2 = re.findall(patternEmail, chat1)\n",
    "print(matches2)"
   ]
  },
  {
   "cell_type": "code",
   "execution_count": 43,
   "metadata": {},
   "outputs": [
    {
     "name": "stdout",
     "output_type": "stream",
     "text": [
      "['8709381320']\n"
     ]
    }
   ],
   "source": [
    "patternOrder = r'order[^\\d]*(\\d*)'\n",
    "matches3 = re.findall(patternOrder, chat3)\n",
    "print(matches3)"
   ]
  },
  {
   "cell_type": "code",
   "execution_count": 44,
   "metadata": {},
   "outputs": [],
   "source": [
    "wiki1 = \"\"\"Nome completo \tElon Reeve Musk\n",
    "Conhecido(a) por \tSpaceX, PayPal, Tesla, Inc., Hyperloop, X.com, Zip2, SolarCity, Neuralink, X, Starlink\n",
    "Nascimento \t28 de junho de 1971 (53 anos)\n",
    "Pretória, Gauteng, África do Sul\n",
    "Residência \tEstados Unidos da América\n",
    "Nacionalidade \tsul-africano (desde 1971)\n",
    "canadiano (desde 1989)\n",
    "norte-americano (desde 2002)\n",
    "Fortuna \tAumento US$ 225 bilhões (agosto de 2023)[1]\n",
    "Cônjuge \t\n",
    "\n",
    "    Justine Musk (c. 2000; div. 2008)\n",
    "    Talulah Riley[2] (c. 2010; div. 2012)[a]\n",
    "    Talulah Riley[2] (c. 2013; div. 2016)[a]\n",
    "\n",
    "Filho(a)(s) \t10 (1 falecido)\n",
    "Alma mater \tQueen's University\n",
    "Universidade da Pensilvânia\n",
    "Ocupação \tEmpresário e investidor\n",
    "Cargo \t\n",
    "\n",
    "    Fundador, CEO SpaceX\n",
    "    CEO Tesla, Inc.\n",
    "    Fundador The Boring Company e X.com (agora fazendo parte do PayPal)\n",
    "    Cofundador da Neuralink, OpenAI, e Zip2\n",
    "    Presidente da Musk Foundation\n",
    "    Proprietário do X (antigo twitter)\"\"\""
   ]
  },
  {
   "cell_type": "code",
   "execution_count": 45,
   "metadata": {},
   "outputs": [
    {
     "name": "stdout",
     "output_type": "stream",
     "text": [
      "['Nascimento \\t28 de junho de 1971', '(53 anos)', 'CEO SpaceX', 'CEO Tesla,']\n"
     ]
    }
   ],
   "source": [
    "patternWiki = r'\\(\\d* anos\\)|CEO \\S*|Nascimento\\s+\\d+ de \\S+ de \\d+'\n",
    "matchWiki = re.findall(patternWiki, wiki1)\n",
    "print(matchWiki)"
   ]
  },
  {
   "cell_type": "code",
   "execution_count": 46,
   "metadata": {},
   "outputs": [],
   "source": [
    "def get_pattern_match(pattern, text):\n",
    "    matches = re.findall(pattern, text)\n",
    "    if matches:\n",
    "        return matches[0]"
   ]
  },
  {
   "cell_type": "code",
   "execution_count": 50,
   "metadata": {},
   "outputs": [],
   "source": [
    "def get_personal_info(text):\n",
    "    age = get_pattern_match(r'(\\d+) anos', text)\n",
    "    CEO =  get_pattern_match(r'CEO (\\S*)', text)\n",
    "    born = get_pattern_match(r'Nascimento\\s+(\\d+ de \\S+ de \\d+)', text)\n",
    "\n",
    "    return {\n",
    "        'age': int(age),\n",
    "        'CEO': CEO.strip(),\n",
    "        'born': born.strip()\n",
    "    }"
   ]
  },
  {
   "cell_type": "code",
   "execution_count": 51,
   "metadata": {},
   "outputs": [
    {
     "data": {
      "text/plain": [
       "{'age': 53, 'CEO': 'CEO SpaceX', 'born': '28 de junho de 1971'}"
      ]
     },
     "execution_count": 51,
     "metadata": {},
     "output_type": "execute_result"
    }
   ],
   "source": [
    "get_personal_info(wiki1)"
   ]
  }
 ],
 "metadata": {
  "kernelspec": {
   "display_name": "Python 3",
   "language": "python",
   "name": "python3"
  },
  "language_info": {
   "codemirror_mode": {
    "name": "ipython",
    "version": 3
   },
   "file_extension": ".py",
   "mimetype": "text/x-python",
   "name": "python",
   "nbconvert_exporter": "python",
   "pygments_lexer": "ipython3",
   "version": "3.11.2"
  }
 },
 "nbformat": 4,
 "nbformat_minor": 2
}
